{
 "cells": [
  {
   "cell_type": "code",
   "execution_count": 1,
   "id": "796199cb",
   "metadata": {},
   "outputs": [],
   "source": [
    "from sympy import *\n",
    "from IPython.display import display, Math"
   ]
  },
  {
   "cell_type": "code",
   "execution_count": 2,
   "id": "f2db2d2c",
   "metadata": {},
   "outputs": [
    {
     "data": {
      "text/latex": [
       "$\\displaystyle \\theta_1=R; \\ \\theta_2=u; \\ \\theta_3=v$"
      ],
      "text/plain": [
       "<IPython.core.display.Math object>"
      ]
     },
     "metadata": {},
     "output_type": "display_data"
    },
    {
     "data": {
      "text/latex": [
       "$\\displaystyle R =\\left[\\begin{matrix}R \\sin{\\left(u \\right)} \\cos{\\left(v \\right)}\\\\R \\sin{\\left(u \\right)} \\sin{\\left(v \\right)}\\\\R \\cos{\\left(u \\right)}\\end{matrix}\\right]$"
      ],
      "text/plain": [
       "<IPython.core.display.Math object>"
      ]
     },
     "metadata": {},
     "output_type": "display_data"
    },
    {
     "data": {
      "text/latex": [
       "$\\displaystyle \\theta_1=H; \\ \\theta_2=u; \\ \\theta_3=z$"
      ],
      "text/plain": [
       "<IPython.core.display.Math object>"
      ]
     },
     "metadata": {},
     "output_type": "display_data"
    },
    {
     "data": {
      "text/latex": [
       "$\\displaystyle R =\\left[\\begin{matrix}H \\cos{\\left(u \\right)}\\\\H \\sin{\\left(u \\right)}\\\\z\\end{matrix}\\right]$"
      ],
      "text/plain": [
       "<IPython.core.display.Math object>"
      ]
     },
     "metadata": {},
     "output_type": "display_data"
    }
   ],
   "source": [
    "# Sphere\n",
    "\n",
    "theta_1, theta_2, theta_3 = symbols('R u v')\n",
    "\n",
    "display(Math(r'\\theta_1=R; \\ \\theta_2=u; \\ \\theta_3=v'))\n",
    "\n",
    "x_1_cov=theta_1*sin(theta_2)*cos(theta_3)\n",
    "x_2_cov=theta_1*sin(theta_2)*sin(theta_3)\n",
    "x_3_cov=theta_1*cos(theta_2)\n",
    "\n",
    "R=Matrix([[x_1_cov],[x_2_cov],[x_3_cov]])\n",
    "display(Math(r'R ='+latex(R)))\n",
    "\n",
    "# Cylinder\n",
    "\n",
    "theta_1, theta_2, theta_3 = symbols('H u z')\n",
    "\n",
    "display(Math(r'\\theta_1=H; \\ \\theta_2=u; \\ \\theta_3=z'))\n",
    "\n",
    "x_1_cov=theta_1*cos(theta_2)\n",
    "x_2_cov=theta_1*sin(theta_2)\n",
    "x_3_cov=theta_3\n",
    "\n",
    "R=Matrix([[x_1_cov],[x_2_cov],[x_3_cov]])\n",
    "display(Math(r'R ='+latex(R)))\n",
    "\n",
    "# Catenoid # Gauss curvature is not working yet!!\n",
    "\n",
    "#theta_1, theta_2, theta_3 = symbols('a \\phi z')\n",
    "\n",
    "#display(Math(r'\\theta_1=R; \\ \\theta_2=u; \\ \\theta_3=v'))\n",
    "\n",
    "#x_1_cov=theta_1*cosh(theta_3/theta_1)*cos(theta_2)\n",
    "#x_2_cov=theta_1*cosh(theta_3/theta_1)*sin(theta_2)\n",
    "#x_3_cov=theta_3\n",
    "\n",
    "#R=Matrix([[x_1_cov],[x_2_cov],[x_3_cov]])\n",
    "#display(Math(r'R ='+latex(R)))"
   ]
  },
  {
   "cell_type": "code",
   "execution_count": 3,
   "id": "b83f8480",
   "metadata": {},
   "outputs": [
    {
     "data": {
      "text/latex": [
       "$\\displaystyle g_1 =\\left[\\begin{matrix}\\cos{\\left(u \\right)}\\\\\\sin{\\left(u \\right)}\\\\0\\end{matrix}\\right]$"
      ],
      "text/plain": [
       "<IPython.core.display.Math object>"
      ]
     },
     "metadata": {},
     "output_type": "display_data"
    },
    {
     "data": {
      "text/latex": [
       "$\\displaystyle g_2 =\\left[\\begin{matrix}- H \\sin{\\left(u \\right)}\\\\H \\cos{\\left(u \\right)}\\\\0\\end{matrix}\\right]$"
      ],
      "text/plain": [
       "<IPython.core.display.Math object>"
      ]
     },
     "metadata": {},
     "output_type": "display_data"
    },
    {
     "data": {
      "text/latex": [
       "$\\displaystyle g_3 =\\left[\\begin{matrix}0\\\\0\\\\1\\end{matrix}\\right]$"
      ],
      "text/plain": [
       "<IPython.core.display.Math object>"
      ]
     },
     "metadata": {},
     "output_type": "display_data"
    }
   ],
   "source": [
    "g_1_cov=diff(R,theta_1)\n",
    "g_2_cov=diff(R,theta_2)\n",
    "g_3_cov=diff(R,theta_3)\n",
    "\n",
    "display(Math(r'g_1 ='+latex(g_1_cov)))\n",
    "display(Math(r'g_2 ='+latex(g_2_cov)))\n",
    "display(Math(r'g_3 ='+latex(g_3_cov)))"
   ]
  },
  {
   "cell_type": "code",
   "execution_count": 4,
   "id": "3879949a",
   "metadata": {},
   "outputs": [
    {
     "data": {
      "text/latex": [
       "$\\displaystyle J =\\left[\\begin{matrix}\\cos{\\left(u \\right)} & \\sin{\\left(u \\right)} & 0\\\\- H \\sin{\\left(u \\right)} & H \\cos{\\left(u \\right)} & 0\\\\0 & 0 & 1\\end{matrix}\\right]$"
      ],
      "text/plain": [
       "<IPython.core.display.Math object>"
      ]
     },
     "metadata": {},
     "output_type": "display_data"
    },
    {
     "data": {
      "text/latex": [
       "$\\displaystyle J^{-1} =\\left[\\begin{matrix}\\cos{\\left(u \\right)} & - \\frac{\\sin{\\left(u \\right)}}{H} & 0\\\\\\sin{\\left(u \\right)} & \\frac{\\cos{\\left(u \\right)}}{H} & 0\\\\0 & 0 & 1\\end{matrix}\\right]$"
      ],
      "text/plain": [
       "<IPython.core.display.Math object>"
      ]
     },
     "metadata": {},
     "output_type": "display_data"
    },
    {
     "data": {
      "text/latex": [
       "$\\displaystyle g_{ij} =\\left[\\begin{matrix}1 & 0 & 0\\\\0 & H^{2} & 0\\\\0 & 0 & 1\\end{matrix}\\right]$"
      ],
      "text/plain": [
       "<IPython.core.display.Math object>"
      ]
     },
     "metadata": {},
     "output_type": "display_data"
    },
    {
     "data": {
      "text/latex": [
       "$\\displaystyle g =H^{2}$"
      ],
      "text/plain": [
       "<IPython.core.display.Math object>"
      ]
     },
     "metadata": {},
     "output_type": "display_data"
    }
   ],
   "source": [
    "J=Matrix([[g_1_cov.T],[g_2_cov.T],[g_3_cov.T]])\n",
    "J_inv=simplify(J.inv())\n",
    "display(Math(r'J ='+latex(J)))\n",
    "display(Math(r'J^{-1} ='+latex(J_inv)))\n",
    "\n",
    "g_ij=simplify(J*J.T)\n",
    "display(Math(r'g_{ij} ='+latex(g_ij)))\n",
    "\n",
    "g=det(g_ij)\n",
    "display(Math(r'g ='+latex(g)))"
   ]
  },
  {
   "cell_type": "code",
   "execution_count": 5,
   "id": "3924ec2f",
   "metadata": {},
   "outputs": [
    {
     "data": {
      "text/latex": [
       "$\\displaystyle I =\\left[\\begin{matrix}H^{2} & 0\\\\0 & 1\\end{matrix}\\right]$"
      ],
      "text/plain": [
       "<IPython.core.display.Math object>"
      ]
     },
     "metadata": {},
     "output_type": "display_data"
    },
    {
     "data": {
      "text/latex": [
       "$\\displaystyle det(I) =H^{2}$"
      ],
      "text/plain": [
       "<IPython.core.display.Math object>"
      ]
     },
     "metadata": {},
     "output_type": "display_data"
    }
   ],
   "source": [
    "I=Matrix([[g_ij[1,1],g_ij[1,2]],[g_ij[2,1],g_ij[2,2]]])\n",
    "det_I=det(I)\n",
    "display(Math(r'I ='+latex(I)))\n",
    "display(Math(r'det(I) ='+latex(det_I)))"
   ]
  },
  {
   "cell_type": "code",
   "execution_count": 6,
   "id": "d93de17b",
   "metadata": {},
   "outputs": [
    {
     "data": {
      "text/latex": [
       "$\\displaystyle g^{ij} =\\left[\\begin{matrix}1 & 0 & 0\\\\0 & \\frac{1}{H^{2}} & 0\\\\0 & 0 & 1\\end{matrix}\\right]$"
      ],
      "text/plain": [
       "<IPython.core.display.Math object>"
      ]
     },
     "metadata": {},
     "output_type": "display_data"
    },
    {
     "data": {
      "text/latex": [
       "$\\displaystyle n =\\left[\\begin{matrix}\\cos{\\left(u \\right)}\\\\\\sin{\\left(u \\right)}\\\\0\\end{matrix}\\right]$"
      ],
      "text/plain": [
       "<IPython.core.display.Math object>"
      ]
     },
     "metadata": {},
     "output_type": "display_data"
    }
   ],
   "source": [
    "g_ij_con=g_ij.inv()\n",
    "display(Math(r'g^{ij} ='+latex(g_ij_con)))\n",
    "g_i_con=g_ij_con*J\n",
    "g_1_con=J_inv.col(0)\n",
    "n=g_1_con\n",
    "display(Math(r'n ='+latex(n)))\n"
   ]
  },
  {
   "cell_type": "code",
   "execution_count": 7,
   "id": "8a2b31ee",
   "metadata": {},
   "outputs": [
    {
     "data": {
      "text/latex": [
       "$\\displaystyle g_{2,2} =\\left[\\begin{matrix}- H \\cos{\\left(u \\right)}\\\\- H \\sin{\\left(u \\right)}\\\\0\\end{matrix}\\right]$"
      ],
      "text/plain": [
       "<IPython.core.display.Math object>"
      ]
     },
     "metadata": {},
     "output_type": "display_data"
    },
    {
     "data": {
      "text/latex": [
       "$\\displaystyle g_{3,3} =\\left[\\begin{matrix}0\\\\0\\\\0\\end{matrix}\\right]$"
      ],
      "text/plain": [
       "<IPython.core.display.Math object>"
      ]
     },
     "metadata": {},
     "output_type": "display_data"
    },
    {
     "data": {
      "text/latex": [
       "$\\displaystyle g_{2,3} =\\left[\\begin{matrix}0\\\\0\\\\0\\end{matrix}\\right]$"
      ],
      "text/plain": [
       "<IPython.core.display.Math object>"
      ]
     },
     "metadata": {},
     "output_type": "display_data"
    }
   ],
   "source": [
    "g_22=diff(g_2_cov,theta_2)\n",
    "g_33=diff(g_3_cov,theta_3)\n",
    "g_23=diff(g_2_cov,theta_3)\n",
    "\n",
    "display(Math(r'g_{2,2} ='+latex(g_22)))\n",
    "display(Math(r'g_{3,3} ='+latex(g_33)))\n",
    "display(Math(r'g_{2,3} ='+latex(g_23)))\n",
    "\n"
   ]
  },
  {
   "cell_type": "code",
   "execution_count": 8,
   "id": "66d15192",
   "metadata": {},
   "outputs": [
    {
     "data": {
      "text/latex": [
       "$\\displaystyle II =\\left[\\begin{matrix}- H & 0\\\\0 & 0\\end{matrix}\\right]$"
      ],
      "text/plain": [
       "<IPython.core.display.Math object>"
      ]
     },
     "metadata": {},
     "output_type": "display_data"
    },
    {
     "data": {
      "text/latex": [
       "$\\displaystyle det(II) =0$"
      ],
      "text/plain": [
       "<IPython.core.display.Math object>"
      ]
     },
     "metadata": {},
     "output_type": "display_data"
    }
   ],
   "source": [
    "L=n.T*g_22\n",
    "M=n.T*g_23\n",
    "N=n.T*g_33\n",
    "\n",
    "II=simplify(Matrix([[L,M],[M,N]]))\n",
    "det_II=simplify(det(II))\n",
    "display(Math(r'II ='+latex(II)))\n",
    "display(Math(r'det(II) ='+latex(det_II)))"
   ]
  },
  {
   "cell_type": "code",
   "execution_count": 9,
   "id": "cf6e5e9b",
   "metadata": {},
   "outputs": [
    {
     "data": {
      "text/latex": [
       "$\\displaystyle K =0$"
      ],
      "text/plain": [
       "<IPython.core.display.Math object>"
      ]
     },
     "metadata": {},
     "output_type": "display_data"
    },
    {
     "data": {
      "text/latex": [
       "$\\displaystyle H =- \\frac{1}{2 H}$"
      ],
      "text/plain": [
       "<IPython.core.display.Math object>"
      ]
     },
     "metadata": {},
     "output_type": "display_data"
    }
   ],
   "source": [
    "K=simplify(det_II/det_I)\n",
    "display(Math(r'K ='+latex(K)))\n",
    "H=II*I.inv()\n",
    "H=simplify(H.trace()/2)\n",
    "display(Math(r'H ='+latex(H)))"
   ]
  },
  {
   "cell_type": "code",
   "execution_count": null,
   "id": "17f1cdaf",
   "metadata": {},
   "outputs": [],
   "source": []
  }
 ],
 "metadata": {
  "kernelspec": {
   "display_name": "Python 3 (ipykernel)",
   "language": "python",
   "name": "python3"
  },
  "language_info": {
   "codemirror_mode": {
    "name": "ipython",
    "version": 3
   },
   "file_extension": ".py",
   "mimetype": "text/x-python",
   "name": "python",
   "nbconvert_exporter": "python",
   "pygments_lexer": "ipython3",
   "version": "3.9.13"
  }
 },
 "nbformat": 4,
 "nbformat_minor": 5
}
