{
 "cells": [
  {
   "cell_type": "code",
   "execution_count": 1,
   "id": "882e87fa",
   "metadata": {},
   "outputs": [],
   "source": [
    "from sympy import *\n",
    "from IPython.display import display, Math"
   ]
  },
  {
   "cell_type": "code",
   "execution_count": 2,
   "id": "f40b639a",
   "metadata": {},
   "outputs": [
    {
     "ename": "NameError",
     "evalue": "name 'R' is not defined",
     "output_type": "error",
     "traceback": [
      "\u001b[1;31m---------------------------------------------------------------------------\u001b[0m",
      "\u001b[1;31mNameError\u001b[0m                                 Traceback (most recent call last)",
      "\u001b[1;32m~\\AppData\\Local\\Temp\\ipykernel_17804\\3642066794.py\u001b[0m in \u001b[0;36m<module>\u001b[1;34m\u001b[0m\n\u001b[0;32m      1\u001b[0m \u001b[0mtheta_1\u001b[0m\u001b[1;33m,\u001b[0m \u001b[0mtheta_2\u001b[0m\u001b[1;33m,\u001b[0m \u001b[0mtheta_3\u001b[0m \u001b[1;33m=\u001b[0m \u001b[0msymbols\u001b[0m\u001b[1;33m(\u001b[0m\u001b[1;34m'theta^1 theta^2 theta^3'\u001b[0m\u001b[1;33m)\u001b[0m\u001b[1;33m\u001b[0m\u001b[1;33m\u001b[0m\u001b[0m\n\u001b[0;32m      2\u001b[0m \u001b[1;33m\u001b[0m\u001b[0m\n\u001b[1;32m----> 3\u001b[1;33m \u001b[0mtheta_1\u001b[0m\u001b[1;33m=\u001b[0m\u001b[0mR\u001b[0m\u001b[1;33m\u001b[0m\u001b[1;33m\u001b[0m\u001b[0m\n\u001b[0m\u001b[0;32m      4\u001b[0m \u001b[0mtheta_2\u001b[0m\u001b[1;33m=\u001b[0m\u001b[0mu\u001b[0m\u001b[1;33m\u001b[0m\u001b[1;33m\u001b[0m\u001b[0m\n\u001b[0;32m      5\u001b[0m \u001b[0mtheta_3\u001b[0m\u001b[1;33m=\u001b[0m\u001b[0mv\u001b[0m\u001b[1;33m\u001b[0m\u001b[1;33m\u001b[0m\u001b[0m\n",
      "\u001b[1;31mNameError\u001b[0m: name 'R' is not defined"
     ]
    }
   ],
   "source": [
    "theta_1, theta_2, theta_3 = symbols('theta^1 theta^2 theta^3')\n",
    "R      ,       u,       v = symbols('R u v')\n",
    "\n",
    "theta_1=R\n",
    "theta_2=u\n",
    "theta_3=v\n",
    "\n",
    "display(Math(r'theta_1=R'))\n",
    "display(Math(r'theta_2=u'))\n",
    "display(Math(r'theta_3=v'))\n",
    "\n",
    "x_1_cov=theta_1*sin(theta_2)*cos(theta_3)\n",
    "x_2_cov=theta_1*sin(theta_2)*sin(theta_3)\n",
    "x_3_cov=theta_1*cos(theta_2)\n",
    "\n",
    "R=Matrix([[x_1_cov],[x_2_cov],[x_3_cov]])\n",
    "display(Math(r'R ='+latex(R)))"
   ]
  },
  {
   "cell_type": "code",
   "execution_count": null,
   "id": "96f3eb08",
   "metadata": {},
   "outputs": [],
   "source": [
    "g_1_cov=diff(R,theta_1)\n",
    "g_2_cov=diff(R,theta_2)\n",
    "g_3_cov=diff(R,theta_3)\n",
    "\n",
    "display(Math(r'g_1 ='+latex(g_1_cov)))\n",
    "display(Math(r'g_2 ='+latex(g_2_cov)))\n",
    "display(Math(r'g_3 ='+latex(g_3_cov)))"
   ]
  },
  {
   "cell_type": "code",
   "execution_count": null,
   "id": "5c7c979d",
   "metadata": {},
   "outputs": [],
   "source": [
    "J=Matrix([[g_1_cov.T],[g_2_cov.T],[g_3_cov.T]])\n",
    "display(Math(r'J ='+latex(J)))\n",
    "\n",
    "g_ij=simplify(J*J.T)\n",
    "display(Math(r'g_{ij} ='+latex(g_ij)))\n",
    "\n",
    "g=det(g_ij)\n",
    "display(Math(r'g ='+latex(g)))"
   ]
  },
  {
   "cell_type": "code",
   "execution_count": null,
   "id": "9f053611",
   "metadata": {},
   "outputs": [],
   "source": [
    "I=Matrix([[g_ij[1,1],g_ij[1,2]],[g_ij[2,1],g_ij[2,2]]])\n",
    "det_I=det(I)\n",
    "display(Math(r'I ='+latex(I)))\n",
    "display(Math(r'det(I) ='+latex(det_I)))"
   ]
  },
  {
   "cell_type": "code",
   "execution_count": null,
   "id": "9972f431",
   "metadata": {},
   "outputs": [],
   "source": [
    "g_ij_con=g_ij.inv()\n",
    "display(Math(r'g^{ij} ='+latex(g_ij_con)))\n",
    "g_i_con=g_ij_con*J\n",
    "g_1_con=g_i_con.row(0).T\n",
    "n=g_1_con\n",
    "display(Math(r'n ='+latex(n)))\n"
   ]
  },
  {
   "cell_type": "code",
   "execution_count": null,
   "id": "9715c752",
   "metadata": {},
   "outputs": [],
   "source": [
    "g_22=diff(g_2_cov,theta_2)\n",
    "g_33=diff(g_3_cov,theta_3)\n",
    "g_23=diff(g_2_cov,theta_3)\n",
    "\n",
    "display(Math(r'g_{2,2} ='+latex(g_22)))\n",
    "display(Math(r'g_{3,3} ='+latex(g_33)))\n",
    "display(Math(r'g_{2,3} ='+latex(g_23)))\n",
    "\n"
   ]
  },
  {
   "cell_type": "code",
   "execution_count": null,
   "id": "8fc59849",
   "metadata": {},
   "outputs": [],
   "source": [
    "L=n.T*g_22\n",
    "M=n.T*g_23\n",
    "N=n.T*g_33\n",
    "\n",
    "II=simplify(Matrix([[L,M],[M,N]]))\n",
    "det_II=simplify(det(II))\n",
    "display(Math(r'II ='+latex(II)))\n",
    "display(Math(r'det(II) ='+latex(det_II)))"
   ]
  },
  {
   "cell_type": "code",
   "execution_count": null,
   "id": "3a7a76a0",
   "metadata": {},
   "outputs": [],
   "source": [
    "K=simplify(det_II/det_I)\n",
    "display(Math(r'K ='+latex(K)))\n",
    "H=II*I.inv()\n",
    "H=simplify(H.trace()/2)\n",
    "display(Math(r'H ='+latex(H)))"
   ]
  },
  {
   "cell_type": "code",
   "execution_count": null,
   "id": "d33bd813",
   "metadata": {},
   "outputs": [],
   "source": []
  }
 ],
 "metadata": {
  "kernelspec": {
   "display_name": "Python 3 (ipykernel)",
   "language": "python",
   "name": "python3"
  },
  "language_info": {
   "codemirror_mode": {
    "name": "ipython",
    "version": 3
   },
   "file_extension": ".py",
   "mimetype": "text/x-python",
   "name": "python",
   "nbconvert_exporter": "python",
   "pygments_lexer": "ipython3",
   "version": "3.9.13"
  }
 },
 "nbformat": 4,
 "nbformat_minor": 5
}
